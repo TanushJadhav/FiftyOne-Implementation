{
  "cells": [
    {
      "cell_type": "markdown",
      "id": "8aa59892",
      "metadata": {
        "id": "8aa59892"
      },
      "source": [
        "## 📌 Reference\n",
        "\n",
        "This notebook was adapted from code available on my GitHub.  \n",
        "For updates or additional information, please visit:\n",
        "\n",
        "👉 [https://github.com/your-username](https://github.com/your-username)"
      ]
    },
    {
      "cell_type": "markdown",
      "id": "t8zyoZCCJOCJ",
      "metadata": {
        "id": "t8zyoZCCJOCJ"
      },
      "source": [
        "### Installing required Libraries"
      ]
    },
    {
      "cell_type": "code",
      "execution_count": 1,
      "id": "Cd5nUB5aJQRi",
      "metadata": {
        "colab": {
          "base_uri": "https://localhost:8080/"
        },
        "id": "Cd5nUB5aJQRi",
        "outputId": "38c3387e-2e8f-423b-b4f1-e710bacd26b3"
      },
      "outputs": [
        {
          "name": "stdout",
          "output_type": "stream",
          "text": [
            "Requirement already satisfied: fiftyone in /usr/local/lib/python3.11/dist-packages (1.4.1)\n",
            "Requirement already satisfied: aiofiles in /usr/local/lib/python3.11/dist-packages (from fiftyone) (24.1.0)\n",
            "Requirement already satisfied: argcomplete in /usr/local/lib/python3.11/dist-packages (from fiftyone) (3.6.2)\n",
            "Requirement already satisfied: beautifulsoup4 in /usr/local/lib/python3.11/dist-packages (from fiftyone) (4.13.4)\n",
            "Requirement already satisfied: boto3 in /usr/local/lib/python3.11/dist-packages (from fiftyone) (1.38.1)\n",
            "Requirement already satisfied: cachetools in /usr/local/lib/python3.11/dist-packages (from fiftyone) (5.5.2)\n",
            "Requirement already satisfied: dacite<1.8.0,>=1.6.0 in /usr/local/lib/python3.11/dist-packages (from fiftyone) (1.7.0)\n",
            "Requirement already satisfied: Deprecated in /usr/local/lib/python3.11/dist-packages (from fiftyone) (1.2.18)\n",
            "Requirement already satisfied: ftfy in /usr/local/lib/python3.11/dist-packages (from fiftyone) (6.3.1)\n",
            "Requirement already satisfied: humanize in /usr/local/lib/python3.11/dist-packages (from fiftyone) (4.12.2)\n",
            "Requirement already satisfied: hypercorn>=0.13.2 in /usr/local/lib/python3.11/dist-packages (from fiftyone) (0.17.3)\n",
            "Requirement already satisfied: Jinja2>=3 in /usr/local/lib/python3.11/dist-packages (from fiftyone) (3.1.6)\n",
            "Requirement already satisfied: kaleido!=0.2.1.post1 in /usr/local/lib/python3.11/dist-packages (from fiftyone) (0.2.1)\n",
            "Requirement already satisfied: matplotlib in /usr/local/lib/python3.11/dist-packages (from fiftyone) (3.10.0)\n",
            "Requirement already satisfied: mongoengine~=0.29.1 in /usr/local/lib/python3.11/dist-packages (from fiftyone) (0.29.1)\n",
            "Requirement already satisfied: motor~=3.6.0 in /usr/local/lib/python3.11/dist-packages (from fiftyone) (3.6.1)\n",
            "Requirement already satisfied: numpy in /usr/local/lib/python3.11/dist-packages (from fiftyone) (2.0.2)\n",
            "Requirement already satisfied: packaging in /usr/local/lib/python3.11/dist-packages (from fiftyone) (24.2)\n",
            "Requirement already satisfied: pandas in /usr/local/lib/python3.11/dist-packages (from fiftyone) (2.2.2)\n",
            "Requirement already satisfied: Pillow>=6.2 in /usr/local/lib/python3.11/dist-packages (from fiftyone) (11.1.0)\n",
            "Requirement already satisfied: plotly>=4.14 in /usr/local/lib/python3.11/dist-packages (from fiftyone) (5.24.1)\n",
            "Requirement already satisfied: pprintpp in /usr/local/lib/python3.11/dist-packages (from fiftyone) (0.4.0)\n",
            "Requirement already satisfied: psutil in /usr/local/lib/python3.11/dist-packages (from fiftyone) (5.9.5)\n",
            "Requirement already satisfied: pymongo~=4.9.2 in /usr/local/lib/python3.11/dist-packages (from fiftyone) (4.9.2)\n",
            "Requirement already satisfied: pytz in /usr/local/lib/python3.11/dist-packages (from fiftyone) (2025.2)\n",
            "Requirement already satisfied: PyYAML in /usr/local/lib/python3.11/dist-packages (from fiftyone) (6.0.2)\n",
            "Requirement already satisfied: regex in /usr/local/lib/python3.11/dist-packages (from fiftyone) (2024.11.6)\n",
            "Requirement already satisfied: retrying in /usr/local/lib/python3.11/dist-packages (from fiftyone) (1.3.4)\n",
            "Requirement already satisfied: rtree in /usr/local/lib/python3.11/dist-packages (from fiftyone) (1.4.0)\n",
            "Requirement already satisfied: scikit-learn in /usr/local/lib/python3.11/dist-packages (from fiftyone) (1.6.1)\n",
            "Requirement already satisfied: scikit-image in /usr/local/lib/python3.11/dist-packages (from fiftyone) (0.25.2)\n",
            "Requirement already satisfied: scipy in /usr/local/lib/python3.11/dist-packages (from fiftyone) (1.14.1)\n",
            "Requirement already satisfied: setuptools in /usr/local/lib/python3.11/dist-packages (from fiftyone) (75.2.0)\n",
            "Requirement already satisfied: sseclient-py<2,>=1.7.2 in /usr/local/lib/python3.11/dist-packages (from fiftyone) (1.8.0)\n",
            "Requirement already satisfied: sse-starlette<1,>=0.10.3 in /usr/local/lib/python3.11/dist-packages (from fiftyone) (0.10.3)\n",
            "Requirement already satisfied: starlette>=0.24.0 in /usr/local/lib/python3.11/dist-packages (from fiftyone) (0.46.2)\n",
            "Requirement already satisfied: strawberry-graphql in /usr/local/lib/python3.11/dist-packages (from fiftyone) (0.266.0)\n",
            "Requirement already satisfied: tabulate in /usr/local/lib/python3.11/dist-packages (from fiftyone) (0.9.0)\n",
            "Requirement already satisfied: xmltodict in /usr/local/lib/python3.11/dist-packages (from fiftyone) (0.14.2)\n",
            "Requirement already satisfied: universal-analytics-python3<2,>=1.0.1 in /usr/local/lib/python3.11/dist-packages (from fiftyone) (1.1.1)\n",
            "Requirement already satisfied: pydash in /usr/local/lib/python3.11/dist-packages (from fiftyone) (8.0.5)\n",
            "Requirement already satisfied: fiftyone-brain<0.21,>=0.20.1 in /usr/local/lib/python3.11/dist-packages (from fiftyone) (0.20.1)\n",
            "Requirement already satisfied: fiftyone-db<2.0,>=0.4 in /usr/local/lib/python3.11/dist-packages (from fiftyone) (1.1.7)\n",
            "Requirement already satisfied: voxel51-eta<0.15,>=0.14.0 in /usr/local/lib/python3.11/dist-packages (from fiftyone) (0.14.0)\n",
            "Requirement already satisfied: opencv-python-headless in /usr/local/lib/python3.11/dist-packages (from fiftyone) (4.11.0.86)\n",
            "Requirement already satisfied: h11 in /usr/local/lib/python3.11/dist-packages (from hypercorn>=0.13.2->fiftyone) (0.14.0)\n",
            "Requirement already satisfied: h2>=3.1.0 in /usr/local/lib/python3.11/dist-packages (from hypercorn>=0.13.2->fiftyone) (4.2.0)\n",
            "Requirement already satisfied: priority in /usr/local/lib/python3.11/dist-packages (from hypercorn>=0.13.2->fiftyone) (2.0.0)\n",
            "Requirement already satisfied: wsproto>=0.14.0 in /usr/local/lib/python3.11/dist-packages (from hypercorn>=0.13.2->fiftyone) (1.2.0)\n",
            "Requirement already satisfied: MarkupSafe>=2.0 in /usr/local/lib/python3.11/dist-packages (from Jinja2>=3->fiftyone) (3.0.2)\n",
            "Requirement already satisfied: tenacity>=6.2.0 in /usr/local/lib/python3.11/dist-packages (from plotly>=4.14->fiftyone) (9.1.2)\n",
            "Requirement already satisfied: dnspython<3.0.0,>=1.16.0 in /usr/local/lib/python3.11/dist-packages (from pymongo~=4.9.2->fiftyone) (2.7.0)\n",
            "Requirement already satisfied: anyio<5,>=3.6.2 in /usr/local/lib/python3.11/dist-packages (from starlette>=0.24.0->fiftyone) (4.9.0)\n",
            "Requirement already satisfied: httpx>=0.10.0 in /usr/local/lib/python3.11/dist-packages (from universal-analytics-python3<2,>=1.0.1->fiftyone) (0.28.1)\n",
            "Requirement already satisfied: dill in /usr/local/lib/python3.11/dist-packages (from voxel51-eta<0.15,>=0.14.0->fiftyone) (0.4.0)\n",
            "Requirement already satisfied: future in /usr/local/lib/python3.11/dist-packages (from voxel51-eta<0.15,>=0.14.0->fiftyone) (1.0.0)\n",
            "Requirement already satisfied: glob2 in /usr/local/lib/python3.11/dist-packages (from voxel51-eta<0.15,>=0.14.0->fiftyone) (0.7)\n",
            "Requirement already satisfied: jsonlines in /usr/local/lib/python3.11/dist-packages (from voxel51-eta<0.15,>=0.14.0->fiftyone) (4.0.0)\n",
            "Requirement already satisfied: py7zr in /usr/local/lib/python3.11/dist-packages (from voxel51-eta<0.15,>=0.14.0->fiftyone) (0.22.0)\n",
            "Requirement already satisfied: python-dateutil in /usr/local/lib/python3.11/dist-packages (from voxel51-eta<0.15,>=0.14.0->fiftyone) (2.8.2)\n",
            "Requirement already satisfied: rarfile in /usr/local/lib/python3.11/dist-packages (from voxel51-eta<0.15,>=0.14.0->fiftyone) (4.2)\n",
            "Requirement already satisfied: requests in /usr/local/lib/python3.11/dist-packages (from voxel51-eta<0.15,>=0.14.0->fiftyone) (2.32.3)\n",
            "Requirement already satisfied: six in /usr/local/lib/python3.11/dist-packages (from voxel51-eta<0.15,>=0.14.0->fiftyone) (1.17.0)\n",
            "Requirement already satisfied: sortedcontainers in /usr/local/lib/python3.11/dist-packages (from voxel51-eta<0.15,>=0.14.0->fiftyone) (2.4.0)\n",
            "Requirement already satisfied: tzlocal in /usr/local/lib/python3.11/dist-packages (from voxel51-eta<0.15,>=0.14.0->fiftyone) (5.3.1)\n",
            "Requirement already satisfied: urllib3 in /usr/local/lib/python3.11/dist-packages (from voxel51-eta<0.15,>=0.14.0->fiftyone) (2.3.0)\n",
            "Requirement already satisfied: soupsieve>1.2 in /usr/local/lib/python3.11/dist-packages (from beautifulsoup4->fiftyone) (2.6)\n",
            "Requirement already satisfied: typing-extensions>=4.0.0 in /usr/local/lib/python3.11/dist-packages (from beautifulsoup4->fiftyone) (4.13.2)\n",
            "Requirement already satisfied: botocore<1.39.0,>=1.38.1 in /usr/local/lib/python3.11/dist-packages (from boto3->fiftyone) (1.38.1)\n",
            "Requirement already satisfied: jmespath<2.0.0,>=0.7.1 in /usr/local/lib/python3.11/dist-packages (from boto3->fiftyone) (1.0.1)\n",
            "Requirement already satisfied: s3transfer<0.13.0,>=0.12.0 in /usr/local/lib/python3.11/dist-packages (from boto3->fiftyone) (0.12.0)\n",
            "Requirement already satisfied: wrapt<2,>=1.10 in /usr/local/lib/python3.11/dist-packages (from Deprecated->fiftyone) (1.17.2)\n",
            "Requirement already satisfied: wcwidth in /usr/local/lib/python3.11/dist-packages (from ftfy->fiftyone) (0.2.13)\n",
            "Requirement already satisfied: contourpy>=1.0.1 in /usr/local/lib/python3.11/dist-packages (from matplotlib->fiftyone) (1.3.2)\n",
            "Requirement already satisfied: cycler>=0.10 in /usr/local/lib/python3.11/dist-packages (from matplotlib->fiftyone) (0.12.1)\n",
            "Requirement already satisfied: fonttools>=4.22.0 in /usr/local/lib/python3.11/dist-packages (from matplotlib->fiftyone) (4.57.0)\n",
            "Requirement already satisfied: kiwisolver>=1.3.1 in /usr/local/lib/python3.11/dist-packages (from matplotlib->fiftyone) (1.4.8)\n",
            "Requirement already satisfied: pyparsing>=2.3.1 in /usr/local/lib/python3.11/dist-packages (from matplotlib->fiftyone) (3.2.3)\n",
            "Requirement already satisfied: tzdata>=2022.7 in /usr/local/lib/python3.11/dist-packages (from pandas->fiftyone) (2025.2)\n",
            "Requirement already satisfied: networkx>=3.0 in /usr/local/lib/python3.11/dist-packages (from scikit-image->fiftyone) (3.4.2)\n",
            "Requirement already satisfied: imageio!=2.35.0,>=2.33 in /usr/local/lib/python3.11/dist-packages (from scikit-image->fiftyone) (2.37.0)\n",
            "Requirement already satisfied: tifffile>=2022.8.12 in /usr/local/lib/python3.11/dist-packages (from scikit-image->fiftyone) (2025.3.30)\n",
            "Requirement already satisfied: lazy-loader>=0.4 in /usr/local/lib/python3.11/dist-packages (from scikit-image->fiftyone) (0.4)\n",
            "Requirement already satisfied: joblib>=1.2.0 in /usr/local/lib/python3.11/dist-packages (from scikit-learn->fiftyone) (1.4.2)\n",
            "Requirement already satisfied: threadpoolctl>=3.1.0 in /usr/local/lib/python3.11/dist-packages (from scikit-learn->fiftyone) (3.6.0)\n",
            "Requirement already satisfied: graphql-core<3.4.0,>=3.2.0 in /usr/local/lib/python3.11/dist-packages (from strawberry-graphql->fiftyone) (3.2.6)\n",
            "Requirement already satisfied: idna>=2.8 in /usr/local/lib/python3.11/dist-packages (from anyio<5,>=3.6.2->starlette>=0.24.0->fiftyone) (3.10)\n",
            "Requirement already satisfied: sniffio>=1.1 in /usr/local/lib/python3.11/dist-packages (from anyio<5,>=3.6.2->starlette>=0.24.0->fiftyone) (1.3.1)\n",
            "Requirement already satisfied: hyperframe<7,>=6.1 in /usr/local/lib/python3.11/dist-packages (from h2>=3.1.0->hypercorn>=0.13.2->fiftyone) (6.1.0)\n",
            "Requirement already satisfied: hpack<5,>=4.1 in /usr/local/lib/python3.11/dist-packages (from h2>=3.1.0->hypercorn>=0.13.2->fiftyone) (4.1.0)\n",
            "Requirement already satisfied: certifi in /usr/local/lib/python3.11/dist-packages (from httpx>=0.10.0->universal-analytics-python3<2,>=1.0.1->fiftyone) (2025.1.31)\n",
            "Requirement already satisfied: httpcore==1.* in /usr/local/lib/python3.11/dist-packages (from httpx>=0.10.0->universal-analytics-python3<2,>=1.0.1->fiftyone) (1.0.8)\n",
            "Requirement already satisfied: attrs>=19.2.0 in /usr/local/lib/python3.11/dist-packages (from jsonlines->voxel51-eta<0.15,>=0.14.0->fiftyone) (25.3.0)\n",
            "Requirement already satisfied: texttable in /usr/local/lib/python3.11/dist-packages (from py7zr->voxel51-eta<0.15,>=0.14.0->fiftyone) (1.7.0)\n",
            "Requirement already satisfied: pycryptodomex>=3.16.0 in /usr/local/lib/python3.11/dist-packages (from py7zr->voxel51-eta<0.15,>=0.14.0->fiftyone) (3.22.0)\n",
            "Requirement already satisfied: pyzstd>=0.15.9 in /usr/local/lib/python3.11/dist-packages (from py7zr->voxel51-eta<0.15,>=0.14.0->fiftyone) (0.16.2)\n",
            "Requirement already satisfied: pyppmd<1.2.0,>=1.1.0 in /usr/local/lib/python3.11/dist-packages (from py7zr->voxel51-eta<0.15,>=0.14.0->fiftyone) (1.1.1)\n",
            "Requirement already satisfied: pybcj<1.1.0,>=1.0.0 in /usr/local/lib/python3.11/dist-packages (from py7zr->voxel51-eta<0.15,>=0.14.0->fiftyone) (1.0.3)\n",
            "Requirement already satisfied: multivolumefile>=0.2.3 in /usr/local/lib/python3.11/dist-packages (from py7zr->voxel51-eta<0.15,>=0.14.0->fiftyone) (0.2.3)\n",
            "Requirement already satisfied: inflate64<1.1.0,>=1.0.0 in /usr/local/lib/python3.11/dist-packages (from py7zr->voxel51-eta<0.15,>=0.14.0->fiftyone) (1.0.1)\n",
            "Requirement already satisfied: brotli>=1.1.0 in /usr/local/lib/python3.11/dist-packages (from py7zr->voxel51-eta<0.15,>=0.14.0->fiftyone) (1.1.0)\n",
            "Requirement already satisfied: charset-normalizer<4,>=2 in /usr/local/lib/python3.11/dist-packages (from requests->voxel51-eta<0.15,>=0.14.0->fiftyone) (3.4.1)\n"
          ]
        }
      ],
      "source": [
        "!pip install fiftyone"
      ]
    },
    {
      "cell_type": "markdown",
      "id": "0fafa6b9",
      "metadata": {
        "id": "0fafa6b9"
      },
      "source": [
        "### Import Librarires"
      ]
    },
    {
      "cell_type": "code",
      "execution_count": 2,
      "id": "NsJsAuidJFnV",
      "metadata": {
        "id": "NsJsAuidJFnV"
      },
      "outputs": [],
      "source": [
        "import os\n",
        "import cv2\n",
        "import numpy as np\n",
        "import fiftyone as fo\n",
        "import fiftyone.brain as fob\n",
        "from sklearn.decomposition import PCA"
      ]
    },
    {
      "cell_type": "markdown",
      "id": "KUJ8uMvLKZRo",
      "metadata": {
        "id": "KUJ8uMvLKZRo"
      },
      "source": [
        "### Required Functions"
      ]
    },
    {
      "cell_type": "code",
      "execution_count": 3,
      "id": "g7_0OCVtJFnY",
      "metadata": {
        "id": "g7_0OCVtJFnY"
      },
      "outputs": [],
      "source": [
        "def track_deleted_images(dataset, original_filepaths):\n",
        "    current_filepaths = {s.filepath for s in dataset}\n",
        "    deleted_images = list(original_filepaths - current_filepaths)\n",
        "    if deleted_images:\n",
        "        for file_path in deleted_images:\n",
        "            if os.path.exists(file_path):\n",
        "                os.remove(file_path)\n",
        "                print(f\"Deleted: {file_path}\")\n",
        "            else:\n",
        "                print(f\"Skipped (not found): {file_path}\")\n",
        "        print(f\"Deleted {len(deleted_images)} images.\")\n",
        "    else:\n",
        "        print(\"No images were deleted.\")"
      ]
    },
    {
      "cell_type": "code",
      "execution_count": 4,
      "id": "xNJC-lQRJFna",
      "metadata": {
        "id": "xNJC-lQRJFna"
      },
      "outputs": [],
      "source": [
        "def load_dataset(dataset_dir, name, dataset_type):\n",
        "    dataset_types = {\n",
        "        \"ImageDirectory\": fo.types.ImageDirectory,\n",
        "        \"ImageDirectoryTree\": fo.types.ImageClassificationDirectoryTree\n",
        "    }\n",
        "\n",
        "    if dataset_type not in dataset_types:\n",
        "        raise ValueError(f\"Invalid dataset_type {dataset_type}\")\n",
        "\n",
        "    dataset = fo.Dataset.from_dir(\n",
        "        dataset_dir=dataset_dir,\n",
        "        dataset_type=dataset_types[dataset_type],\n",
        "        name=name\n",
        "    )\n",
        "    dataset.compute_metadata()\n",
        "    return dataset"
      ]
    },
    {
      "cell_type": "code",
      "execution_count": 5,
      "id": "wUMHRg8oJFnc",
      "metadata": {
        "id": "wUMHRg8oJFnc"
      },
      "outputs": [],
      "source": [
        "def compute_pca_embeddings(dataset_dir, name, dataset_type, n_components=512):\n",
        "    dataset = load_dataset(dataset_dir, name, dataset_type)\n",
        "    image_arrays = []\n",
        "    max_pixels = 0\n",
        "    for f in dataset.values(\"filepath\"):\n",
        "        img = cv2.imread(f, cv2.IMREAD_GRAYSCALE)\n",
        "        if img is None:\n",
        "            print(f\"Warning: Skipping unreadable image: {f}\")\n",
        "            continue\n",
        "        img_flattened = img.ravel()\n",
        "        image_arrays.append(img_flattened)\n",
        "        max_pixels = max(max_pixels, img_flattened.shape[0])\n",
        "    padded_embeddings = np.array([\n",
        "        np.pad(img, (0, max_pixels - img.shape[0])) for img in image_arrays\n",
        "    ])\n",
        "    pca = PCA(n_components=min(n_components, padded_embeddings.shape[0]))\n",
        "    pca_embeddings = pca.fit_transform(padded_embeddings)\n",
        "    return pca_embeddings, dataset"
      ]
    },
    {
      "cell_type": "code",
      "execution_count": 6,
      "id": "qGV_fFnUJFnd",
      "metadata": {
        "id": "qGV_fFnUJFnd"
      },
      "outputs": [],
      "source": [
        "def compute_embeddings(dataset_dir, name, dataset_type, choice):\n",
        "    if choice == \"pixel_embeddings\":\n",
        "        pca_embeddings, dataset = compute_pca_embeddings(dataset_dir, name, dataset_type)\n",
        "        fob.compute_visualization(\n",
        "            dataset,\n",
        "            embeddings=pca_embeddings,\n",
        "            num_dims=2,\n",
        "            method=\"umap\",\n",
        "            brain_key=choice,\n",
        "            verbose=True,\n",
        "            seed=42\n",
        "        )\n",
        "    else:\n",
        "        dataset = load_dataset(dataset_dir, name, dataset_type)\n",
        "        model = {\n",
        "            \"resnet_embeddings\": \"resnet50-imagenet-torch\",\n",
        "            \"clip_embeddings\": \"clip-vit-base32-torch\",\n",
        "            \"inception_embeddings\": \"inception-v3-imagenet-torch\"\n",
        "        }\n",
        "        fob.compute_visualization(\n",
        "            dataset,\n",
        "            model=model[choice],\n",
        "            embeddings=choice,\n",
        "            method=\"umap\",\n",
        "            brain_key=choice,\n",
        "            batch_size=10\n",
        "        )\n",
        "    fob.compute_uniqueness(dataset, embeddings=choice)\n",
        "    fob.compute_representativeness(dataset, embeddings=choice)\n",
        "    return dataset"
      ]
    },
    {
      "cell_type": "markdown",
      "id": "RMMWm7VJKQZH",
      "metadata": {
        "id": "RMMWm7VJKQZH"
      },
      "source": [
        "### Connect to your Google Drive if needed"
      ]
    },
    {
      "cell_type": "code",
      "execution_count": 7,
      "id": "lf2BDmfIKWP3",
      "metadata": {
        "colab": {
          "base_uri": "https://localhost:8080/"
        },
        "id": "lf2BDmfIKWP3",
        "outputId": "d9f141d7-8e93-4d1c-d1dd-441dbdace51b"
      },
      "outputs": [
        {
          "name": "stdout",
          "output_type": "stream",
          "text": [
            "Drive already mounted at /content/drive; to attempt to forcibly remount, call drive.mount(\"/content/drive\", force_remount=True).\n"
          ]
        }
      ],
      "source": [
        "from google.colab import drive\n",
        "drive.mount('/content/drive')"
      ]
    },
    {
      "cell_type": "code",
      "execution_count": 8,
      "id": "oSn2giddJFng",
      "metadata": {
        "id": "oSn2giddJFng"
      },
      "outputs": [],
      "source": [
        "# Set parameters manually\n",
        "#dataset_dir = \"/path/to/your/images\"\n",
        "dataset_dir = \"/content/drive/MyDrive/Infeed_data\"\n",
        "dataset_name = \"my_dataset\"\n",
        "dataset_type = \"ImageDirectoryTree\"  # or ImageDirectoryTree\n",
        "embedding_type = \"resnet\"  # pixel | resnet | clip | inception\n",
        "\n",
        "embed_dict = {\n",
        "    \"pixel\": \"pixel_embeddings\",\n",
        "    \"resnet\": \"resnet_embeddings\",\n",
        "    \"clip\": \"clip_embeddings\",\n",
        "    \"inception\": \"inception_embeddings\"\n",
        "}"
      ]
    },
    {
      "cell_type": "code",
      "execution_count": null,
      "id": "OTjjZF3-JFni",
      "metadata": {
        "colab": {
          "base_uri": "https://localhost:8080/"
        },
        "id": "OTjjZF3-JFni",
        "outputId": "f920cd13-04af-4488-c83e-405456bafd0e"
      },
      "outputs": [
        {
          "name": "stdout",
          "output_type": "stream",
          "text": [
            " 100% |███████████████| 2040/2040 [1.3s elapsed, 0s remaining, 1.6K samples/s]         \n"
          ]
        },
        {
          "name": "stderr",
          "output_type": "stream",
          "text": [
            "INFO:eta.core.utils: 100% |███████████████| 2040/2040 [1.3s elapsed, 0s remaining, 1.6K samples/s]         \n"
          ]
        },
        {
          "name": "stdout",
          "output_type": "stream",
          "text": [
            "Computing metadata...\n"
          ]
        },
        {
          "name": "stderr",
          "output_type": "stream",
          "text": [
            "INFO:fiftyone.core.metadata:Computing metadata...\n"
          ]
        },
        {
          "name": "stdout",
          "output_type": "stream",
          "text": [
            " 100% |███████████████| 2040/2040 [4.0m elapsed, 0s remaining, 5.1 samples/s]       \n"
          ]
        },
        {
          "name": "stderr",
          "output_type": "stream",
          "text": [
            "INFO:eta.core.utils: 100% |███████████████| 2040/2040 [4.0m elapsed, 0s remaining, 5.1 samples/s]       \n"
          ]
        },
        {
          "name": "stdout",
          "output_type": "stream",
          "text": [
            "Computing embeddings...\n"
          ]
        },
        {
          "name": "stderr",
          "output_type": "stream",
          "text": [
            "INFO:fiftyone.brain.internal.core.utils:Computing embeddings...\n"
          ]
        },
        {
          "name": "stdout",
          "output_type": "stream",
          "text": [
            "Model does not support batching\n"
          ]
        },
        {
          "name": "stderr",
          "output_type": "stream",
          "text": [
            "WARNING:fiftyone.core.models:Model does not support batching\n"
          ]
        },
        {
          "name": "stdout",
          "output_type": "stream",
          "text": [
            "   6% |\\--------------|  116/2040 [53.8s elapsed, 15.3m remaining, 1.4 samples/s]   "
          ]
        }
      ],
      "source": [
        "# Run embedding computation\n",
        "dataset = compute_embeddings(dataset_dir, dataset_name, dataset_type, embed_dict[embedding_type])\n",
        "original_filepaths = {s.filepath for s in dataset}"
      ]
    },
    {
      "cell_type": "code",
      "execution_count": null,
      "id": "lubvZ_2BJFnm",
      "metadata": {
        "id": "lubvZ_2BJFnm"
      },
      "outputs": [],
      "source": [
        "# Launch FiftyOne App\n",
        "session = fo.launch_app(dataset, address=\"0.0.0.0\")"
      ]
    },
    {
      "cell_type": "code",
      "execution_count": null,
      "id": "_lOHMkQ5JFnn",
      "metadata": {
        "id": "_lOHMkQ5JFnn"
      },
      "outputs": [],
      "source": [
        "# After reviewing in FiftyOne, you can run this manually to track deleted files\n",
        "track_deleted_images(dataset, original_filepaths)"
      ]
    }
  ],
  "metadata": {
    "colab": {
      "provenance": []
    },
    "kernelspec": {
      "display_name": "51_venv",
      "language": "python",
      "name": "python3"
    },
    "language_info": {
      "codemirror_mode": {
        "name": "ipython",
        "version": 3
      },
      "file_extension": ".py",
      "mimetype": "text/x-python",
      "name": "python",
      "nbconvert_exporter": "python",
      "pygments_lexer": "ipython3",
      "version": "3.12.3"
    }
  },
  "nbformat": 4,
  "nbformat_minor": 5
}
